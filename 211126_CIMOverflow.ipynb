{
 "cells": [
  {
   "cell_type": "markdown",
   "id": "4a8ec50b",
   "metadata": {},
   "source": [
    "# Data Cleaning / Wrangling w/ Pandas"
   ]
  },
  {
   "cell_type": "markdown",
   "id": "742c3e3f",
   "metadata": {},
   "source": [
    "About pandas:\n",
    "\n",
    "pandas is a fast, powerful, flexible and easy to use open source data analysis and manipulation tool,\n",
    "built on top of the Python programming language."
   ]
  },
  {
   "cell_type": "code",
   "execution_count": null,
   "id": "e2be1447",
   "metadata": {},
   "outputs": [],
   "source": [
    "# First step, import the pandas package\n",
    "\n",
    "import pandas as pd"
   ]
  },
  {
   "cell_type": "code",
   "execution_count": null,
   "id": "02ef1541",
   "metadata": {},
   "outputs": [],
   "source": [
    "# Next step, load the file that we want to clean\n",
    "\n",
    "file = pd.read_excel('/Users/daniel.geanon/OneDrive - Karolinska Institutet/Mac/Desktop/211126_CIMOverflow.xlsx')"
   ]
  },
  {
   "cell_type": "code",
   "execution_count": null,
   "id": "7bf8f3b0",
   "metadata": {},
   "outputs": [],
   "source": [
    "# Display file\n",
    "\n",
    "file"
   ]
  },
  {
   "cell_type": "code",
   "execution_count": null,
   "id": "08459147",
   "metadata": {},
   "outputs": [],
   "source": [
    "# First step, let's read columns and check the names\n",
    "\n",
    "file.columns.tolist()"
   ]
  },
  {
   "cell_type": "code",
   "execution_count": null,
   "id": "c1d4dbc9",
   "metadata": {},
   "outputs": [],
   "source": [
    "# There are many typos in the column names, let's correct those\n",
    "\n",
    "example_string = 'r√∂kare'\n",
    "example_string = example_string.replace('√∂','ö')\n",
    "example_string"
   ]
  },
  {
   "cell_type": "code",
   "execution_count": null,
   "id": "545184f7",
   "metadata": {},
   "outputs": [],
   "source": [
    "# There's a number of instances where swedish was misread into english\n",
    "# Let's change all of those characters back in a for loop using str.replace()\n",
    "\n",
    "new_col_name_list = []\n",
    "\n",
    "for column in file.columns.tolist():\n",
    "    new_col = column.replace('√∂','ö').replace('√§','ä').replace('√•','å')\n",
    "    new_col_name_list.append(new_col)\n",
    "    \n",
    "new_col_name_list"
   ]
  },
  {
   "cell_type": "code",
   "execution_count": null,
   "id": "e2430106",
   "metadata": {},
   "outputs": [],
   "source": [
    "# Column names are now clean, so let's rename the columns with our new list\n",
    "\n",
    "file.columns = new_col_name_list\n",
    "file.columns"
   ]
  },
  {
   "cell_type": "code",
   "execution_count": null,
   "id": "a71e9019",
   "metadata": {},
   "outputs": [],
   "source": [
    "# Showing file\n",
    "\n",
    "file"
   ]
  },
  {
   "cell_type": "code",
   "execution_count": null,
   "id": "61eedff7",
   "metadata": {},
   "outputs": [],
   "source": [
    "# Let's loop through every row and do the same sort of cleaning\n",
    "for value in list(range(0,392)):\n",
    "    for column in file.columns.tolist():\n",
    "        cell = file.loc[value,column]\n",
    "        if type(cell) == str:\n",
    "            cell = cell.replace('√∂','ö').replace('√§','ä').replace('√•','å')\n",
    "            file.loc[value,column] = cell\n",
    "        \n",
    "file['Smoking (nuvarande/tidigare/ej rökare)'].value_counts()"
   ]
  },
  {
   "cell_type": "code",
   "execution_count": null,
   "id": "b640d9f1",
   "metadata": {},
   "outputs": [],
   "source": [
    "# Let's explore the \"Include?\" Column\n",
    "\n",
    "file['Include?'].value_counts()"
   ]
  },
  {
   "cell_type": "code",
   "execution_count": null,
   "id": "c80e1078",
   "metadata": {},
   "outputs": [],
   "source": [
    "# 0 must equal exclude, so let's drop those from our dataframe\n",
    "# First, let's locate all rows where Include? == 0, get the indices for those rows, and assign them to a new list\n",
    "\n",
    "drop_list = file.loc[file['Include?'] == 0].index.tolist()\n",
    "drop_list"
   ]
  },
  {
   "cell_type": "code",
   "execution_count": null,
   "id": "3beba632",
   "metadata": {},
   "outputs": [],
   "source": [
    "# Now, let's drop those rows with those indices\n",
    "\n",
    "file = file.drop(drop_list)\n",
    "\n",
    "file"
   ]
  },
  {
   "cell_type": "code",
   "execution_count": null,
   "id": "5d73a357",
   "metadata": {},
   "outputs": [],
   "source": [
    "# Let's explore more columns and see what further cleaning we can do\n",
    "\n",
    "file.columns.tolist()"
   ]
  },
  {
   "cell_type": "code",
   "execution_count": null,
   "id": "174dd463",
   "metadata": {},
   "outputs": [],
   "source": [
    "# Cleaning one more column\n",
    "file = file.rename(columns = {'Date disease onsent':'Date disease onset'})\n",
    "file.columns.tolist()"
   ]
  },
  {
   "cell_type": "code",
   "execution_count": null,
   "id": "a8a79726",
   "metadata": {},
   "outputs": [],
   "source": [
    "# There are lots of relevant dates, and we want to calculate day intervals\n",
    "# 1) Date biobank sample\n",
    "# 2) Date disease onset\n",
    "# 3) Date hospital admission\n",
    "# 4) Date positive PCR test"
   ]
  },
  {
   "cell_type": "code",
   "execution_count": null,
   "id": "bc3ffbb5",
   "metadata": {},
   "outputs": [],
   "source": [
    "# Let's create new columns with day ranges for each of those conditions\n",
    "\n",
    "# First, we need to check the datetime format of these dates\n",
    "\n",
    "file['Date for biobank sample']"
   ]
  },
  {
   "cell_type": "code",
   "execution_count": null,
   "id": "3a36bc33",
   "metadata": {},
   "outputs": [],
   "source": [
    "# Example (locating one date in the dataframe)\n",
    "\n",
    "d1 = file.loc[0,'Date disease onset']\n",
    "d1.strftime(\"%Y-%m-%d\")"
   ]
  },
  {
   "cell_type": "code",
   "execution_count": null,
   "id": "f6a2c051",
   "metadata": {},
   "outputs": [],
   "source": [
    "d2 = file.loc[0,'Date for biobank sample']\n",
    "d2.strftime(\"%Y-%m-%d\")"
   ]
  },
  {
   "cell_type": "code",
   "execution_count": null,
   "id": "32c3d0a2",
   "metadata": {},
   "outputs": [],
   "source": [
    "# Define days_between function\n",
    "\n",
    "from datetime import datetime\n",
    "\n",
    "def days_between(d1, d2):\n",
    "    d1 = datetime.strptime(d1.strftime(\"%Y-%m-%d\"), \"%Y-%m-%d\")\n",
    "    d2 = datetime.strptime(d2.strftime(\"%Y-%m-%d\"), \"%Y-%m-%d\")\n",
    "    return (d2 - d1).days"
   ]
  },
  {
   "cell_type": "code",
   "execution_count": null,
   "id": "451754ac",
   "metadata": {},
   "outputs": [],
   "source": [
    "days_between(d1,d2)"
   ]
  },
  {
   "cell_type": "code",
   "execution_count": null,
   "id": "159f736c",
   "metadata": {},
   "outputs": [],
   "source": [
    "# Let's use this function for every value in our dataframe\n",
    "# First we will reset dataframe indices so that they are in a consecutive integer list\n",
    "\n",
    "file = file.reset_index()\n",
    "file"
   ]
  },
  {
   "cell_type": "code",
   "execution_count": null,
   "id": "1bf85e3c",
   "metadata": {},
   "outputs": [],
   "source": [
    "file = file.rename(columns = {'index':'original index'})\n",
    "file"
   ]
  },
  {
   "cell_type": "code",
   "execution_count": null,
   "id": "6ddcd590",
   "metadata": {
    "scrolled": true
   },
   "outputs": [],
   "source": [
    "file['Date disease onset'].unique().tolist()"
   ]
  },
  {
   "cell_type": "code",
   "execution_count": null,
   "id": "118a5d76",
   "metadata": {},
   "outputs": [],
   "source": [
    "# We have some non date values ('na' & 0), so we'll have to take care of that in our function)\n",
    "\n",
    "file['Days since symptom onset'] = ''\n",
    "\n",
    "for value in list(range(0,387)):\n",
    "    d1 = file.loc[value,'Date disease onset']\n",
    "    d2 = file.loc[value, 'Date for biobank sample']\n",
    "    if d1 == 'na' or d2 == 'na' or d1 == 0 or d2 == 0 :\n",
    "        file.loc[value, 'Days since symptom onset'] = 'NaN'\n",
    "    else:\n",
    "        days = days_between(d1,d2)\n",
    "        file.loc[value,'Days since symptom onset'] = days\n",
    "    \n",
    "file"
   ]
  },
  {
   "cell_type": "code",
   "execution_count": null,
   "id": "004593f2",
   "metadata": {},
   "outputs": [],
   "source": [
    "file['Days since symptom onset'].tolist()"
   ]
  },
  {
   "cell_type": "code",
   "execution_count": null,
   "id": "ed162445",
   "metadata": {
    "scrolled": true
   },
   "outputs": [],
   "source": [
    "file['Date hospital admission'].unique().tolist()"
   ]
  },
  {
   "cell_type": "code",
   "execution_count": null,
   "id": "4150eebd",
   "metadata": {},
   "outputs": [],
   "source": [
    "# 2) Date since hospital admission\n",
    "\n",
    "file['Days since hospital admission'] = ''\n",
    "\n",
    "for value in list(range(0,387)):\n",
    "    d1 = file.loc[value,'Date hospital admission']\n",
    "    d2 = file.loc[value, 'Date for biobank sample']\n",
    "    if d1 == 'na' or d2 == 'na' or d1 == 0 or d2 == 0 :\n",
    "        file.loc[value, 'Days since hospital admission'] = 'NaN'\n",
    "    else:\n",
    "        days = days_between(d1,d2)\n",
    "        file.loc[value,'Days since hospital admission'] = days\n",
    "    \n",
    "file"
   ]
  },
  {
   "cell_type": "code",
   "execution_count": null,
   "id": "2c20abd9",
   "metadata": {
    "scrolled": true
   },
   "outputs": [],
   "source": [
    "file['Date positive PCR test'].unique().tolist()"
   ]
  },
  {
   "cell_type": "code",
   "execution_count": null,
   "id": "bbabe8f1",
   "metadata": {},
   "outputs": [],
   "source": [
    "# 2) Date since positive pcr test\n",
    "\n",
    "file['Days since positive PCR test'] = ''\n",
    "\n",
    "for value in list(range(0,387)):\n",
    "    d1 = file.loc[value,'Date positive PCR test']\n",
    "    d2 = file.loc[value, 'Date for biobank sample']\n",
    "    if d1 == 0 or d2 == 0 :\n",
    "        file.loc[value, 'Days since positive PCR test'] = 'NaN'\n",
    "    else:\n",
    "        days = days_between(d1,d2)\n",
    "        file.loc[value,'Days since positive PCR test'] = days\n",
    "    \n",
    "file"
   ]
  },
  {
   "cell_type": "code",
   "execution_count": null,
   "id": "692042be",
   "metadata": {},
   "outputs": [],
   "source": [
    "# Relevant day ranges are added, let's explore other columns that we can clean\n",
    "file.columns.tolist()"
   ]
  },
  {
   "cell_type": "code",
   "execution_count": null,
   "id": "b65f14b0",
   "metadata": {},
   "outputs": [],
   "source": [
    "# Let's explore some of the variables in our cohort further\n",
    "file['Age'].describe()"
   ]
  },
  {
   "cell_type": "code",
   "execution_count": null,
   "id": "70a80dbb",
   "metadata": {},
   "outputs": [],
   "source": [
    "file['Sex'].value_counts()"
   ]
  },
  {
   "cell_type": "code",
   "execution_count": null,
   "id": "1081ca37",
   "metadata": {},
   "outputs": [],
   "source": [
    "file['BMI final'].describe()"
   ]
  },
  {
   "cell_type": "code",
   "execution_count": null,
   "id": "f892a8ba",
   "metadata": {},
   "outputs": [],
   "source": [
    "file['Smoking (nuvarande/tidigare/ej rökare)'].value_counts()"
   ]
  },
  {
   "cell_type": "code",
   "execution_count": null,
   "id": "cef61f42",
   "metadata": {},
   "outputs": [],
   "source": [
    "file['CCI (Charlson comorbidity index)'].describe()"
   ]
  },
  {
   "cell_type": "code",
   "execution_count": null,
   "id": "d5a5abd2",
   "metadata": {},
   "outputs": [],
   "source": [
    "# From here, I can come up with a few challenges"
   ]
  },
  {
   "cell_type": "code",
   "execution_count": null,
   "id": "3a8531d9",
   "metadata": {},
   "outputs": [],
   "source": [
    "# Patients older than 50\n",
    "\n",
    "file.loc[file['Age'] > 50]"
   ]
  },
  {
   "cell_type": "code",
   "execution_count": null,
   "id": "e05ac297",
   "metadata": {},
   "outputs": [],
   "source": [
    "# What sort of treatment are they on\n",
    "file.loc[file['Age'] > 50]['Cytokinblockad före biobanksprov1'].value_counts()"
   ]
  },
  {
   "cell_type": "code",
   "execution_count": null,
   "id": "e6dd5b25",
   "metadata": {},
   "outputs": [],
   "source": [
    "# Mean neutrophil count for biobank 1\n",
    "\n",
    "file.loc[file['Biobank Sample'] == 1]['Neutrophil ct +/- 24 hrs'].mean()"
   ]
  },
  {
   "cell_type": "code",
   "execution_count": null,
   "id": "a12f97e4",
   "metadata": {},
   "outputs": [],
   "source": [
    "# Compared to Later in infection\n",
    "file.loc[file['Biobank Sample'] == 3]['Neutrophil ct +/- 24 hrs'].mean()"
   ]
  },
  {
   "cell_type": "code",
   "execution_count": null,
   "id": "bae6ca93",
   "metadata": {},
   "outputs": [],
   "source": []
  }
 ],
 "metadata": {
  "kernelspec": {
   "display_name": "Python 3",
   "language": "python",
   "name": "python3"
  },
  "language_info": {
   "codemirror_mode": {
    "name": "ipython",
    "version": 3
   },
   "file_extension": ".py",
   "mimetype": "text/x-python",
   "name": "python",
   "nbconvert_exporter": "python",
   "pygments_lexer": "ipython3",
   "version": "3.8.8"
  }
 },
 "nbformat": 4,
 "nbformat_minor": 5
}
